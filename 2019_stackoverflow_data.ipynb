{
 "cells": [
  {
   "cell_type": "code",
   "execution_count": 1,
   "metadata": {},
   "outputs": [],
   "source": [
    "import pandas as pd\n",
    "import pickle\n",
    "import matplotlib.pyplot as plt\n",
    "from matplotlib.pyplot import figure\n",
    "import numpy as np\n",
    "\n",
    "%matplotlib inline"
   ]
  },
  {
   "cell_type": "code",
   "execution_count": 2,
   "metadata": {},
   "outputs": [],
   "source": [
    "plt.style.use(\"seaborn\")"
   ]
  },
  {
   "cell_type": "code",
   "execution_count": null,
   "metadata": {},
   "outputs": [],
   "source": [
    "# df = pd.read_csv('2019_survey_results_public.csv', index_col='Respondent')\n",
    "# schema_df = pd.read_csv(\"2019_survey_results_schema.csv\", index_col='Column')"
   ]
  },
  {
   "cell_type": "code",
   "execution_count": null,
   "metadata": {},
   "outputs": [],
   "source": [
    "# df.columns"
   ]
  },
  {
   "cell_type": "markdown",
   "metadata": {},
   "source": [
    "#### Filtered data set based on the following:\n",
    "\n",
    "- only entries from `United States`\n",
    "\n",
    "- removal of nan values from 'Gender', 'RaceEthnicity', 'YearsCoding', 'YearsCodingProf'\n",
    "\n",
    "- featured columns are - 'Gender', 'Hobbyist', 'Ethnicity', 'YearsCode', 'YearsCodePro'"
   ]
  },
  {
   "cell_type": "code",
   "execution_count": null,
   "metadata": {},
   "outputs": [],
   "source": [
    "# unitedstates_df = df[df['Country'] == 'United States']"
   ]
  },
  {
   "cell_type": "code",
   "execution_count": null,
   "metadata": {},
   "outputs": [],
   "source": [
    "# filt = unitedstates_df[unitedstates_df['Ethnicity'].notnull() & unitedstates_df['Gender'].notnull() & unitedstates_df['YearsCode'].notnull() & unitedstates_df['YearsCodePro'].notnull()]"
   ]
  },
  {
   "cell_type": "code",
   "execution_count": null,
   "metadata": {},
   "outputs": [],
   "source": [
    "# filt = filt[['Gender', 'Hobbyist', 'Ethnicity', 'YearsCode', 'YearsCodePro']]"
   ]
  },
  {
   "cell_type": "code",
   "execution_count": null,
   "metadata": {},
   "outputs": [],
   "source": [
    "# filt.to_pickle(\"filtered_2019data.pkl\")"
   ]
  },
  {
   "cell_type": "code",
   "execution_count": 3,
   "metadata": {},
   "outputs": [],
   "source": [
    "data = pd.read_pickle(\"2019_filtered_data.pkl\")"
   ]
  },
  {
   "cell_type": "markdown",
   "metadata": {},
   "source": [
    "#### Initial steps\n",
    "\n",
    "1) Need to change numbers in YearsCodePro to junior, mid level, etc.\n",
    "\n",
    "2) Aggregate groups of data (all men, all white men, etc). I want counts here (normalized for percentage)\n",
    "\n",
    "3) Create graph"
   ]
  },
  {
   "cell_type": "code",
   "execution_count": 4,
   "metadata": {},
   "outputs": [],
   "source": [
    "# data_df['Gender'].unique()\n",
    "list_gender_toreplace = ['Woman',\n",
    "       'Non-binary, genderqueer, or gender non-conforming',\n",
    "       'Woman;Non-binary, genderqueer, or gender non-conforming',\n",
    "       'Man;Non-binary, genderqueer, or gender non-conforming',\n",
    "       'Woman;Man',\n",
    "       'Woman;Man;Non-binary, genderqueer, or gender non-conforming']\n",
    "\n"
   ]
  },
  {
   "cell_type": "code",
   "execution_count": 5,
   "metadata": {},
   "outputs": [],
   "source": [
    "# data_df['Ethnicity'].unique()\n",
    "list_ethn_poc = ['Black or of African descent',\n",
    "       'South Asian', 'East Asian',\n",
    "       'Black or of African descent;White or of European descent;Biracial',\n",
    "       'Hispanic or Latino/Latina;White or of European descent',\n",
    "       'Black or of African descent;Hispanic or Latino/Latina;Native American, Pacific Islander, or Indigenous Australian;White or of European descent;Multiracial',\n",
    "       'Hispanic or Latino/Latina',\n",
    "       'East Asian;Native American, Pacific Islander, or Indigenous Australian;White or of European descent;Multiracial',\n",
    "       'Middle Eastern;White or of European descent', 'Middle Eastern',\n",
    "       'Biracial', 'South Asian;White or of European descent;Multiracial',\n",
    "       'East Asian;White or of European descent;Biracial', 'Multiracial',\n",
    "       'Black or of African descent;White or of European descent',\n",
    "       'East Asian;Hispanic or Latino/Latina;White or of European descent',\n",
    "       'East Asian;White or of European descent;Multiracial',\n",
    "       'Hispanic or Latino/Latina;Multiracial',\n",
    "       'South Asian;White or of European descent;Biracial',\n",
    "       'Native American, Pacific Islander, or Indigenous Australian;White or of European descent;Multiracial',\n",
    "       'Native American, Pacific Islander, or Indigenous Australian',\n",
    "       'Black or of African descent;White or of European descent;Multiracial',\n",
    "       'Black or of African descent;Hispanic or Latino/Latina;White or of European descent',\n",
    "       'Native American, Pacific Islander, or Indigenous Australian;White or of European descent',\n",
    "       'Hispanic or Latino/Latina;Biracial',\n",
    "       'East Asian;White or of European descent',\n",
    "       'Hispanic or Latino/Latina;South Asian;Multiracial',\n",
    "       'Hispanic or Latino/Latina;White or of European descent;Multiracial',\n",
    "       'Hispanic or Latino/Latina;White or of European descent;Biracial',\n",
    "       'Native American, Pacific Islander, or Indigenous Australian;White or of European descent;Biracial',\n",
    "       'East Asian;South Asian',\n",
    "       'Middle Eastern;White or of European descent;Multiracial',\n",
    "       'Black or of African descent;South Asian;Multiracial',\n",
    "       'South Asian;Multiracial',\n",
    "       'South Asian;White or of European descent',\n",
    "       'Black or of African descent;East Asian',\n",
    "       'Native American, Pacific Islander, or Indigenous Australian;South Asian;White or of European descent;Biracial',\n",
    "       'East Asian;Biracial;Multiracial',\n",
    "       'Black or of African descent;Hispanic or Latino/Latina',\n",
    "       'Black or of African descent;South Asian;White or of European descent;Multiracial',\n",
    "       'Hispanic or Latino/Latina;Native American, Pacific Islander, or Indigenous Australian;South Asian;White or of European descent;Multiracial',\n",
    "       'Black or of African descent;East Asian;White or of European descent;Multiracial',\n",
    "       'East Asian;South Asian;White or of European descent;Multiracial',\n",
    "       'Hispanic or Latino/Latina;White or of European descent;Biracial;Multiracial',\n",
    "       'White or of European descent;Multiracial',\n",
    "       'East Asian;White or of European descent;Biracial;Multiracial',\n",
    "       'Black or of African descent;Native American, Pacific Islander, or Indigenous Australian;White or of European descent;Multiracial',\n",
    "       'East Asian;Middle Eastern',\n",
    "       'Black or of African descent;Native American, Pacific Islander, or Indigenous Australian',\n",
    "       'East Asian;Native American, Pacific Islander, or Indigenous Australian',\n",
    "       'White or of European descent;Biracial',\n",
    "       'Middle Eastern;South Asian;Multiracial',\n",
    "       'Black or of African descent;Middle Eastern;White or of European descent',\n",
    "       'Native American, Pacific Islander, or Indigenous Australian;South Asian',\n",
    "       'Hispanic or Latino/Latina;Native American, Pacific Islander, or Indigenous Australian',\n",
    "       'Hispanic or Latino/Latina;Middle Eastern',\n",
    "       'Black or of African descent;Hispanic or Latino/Latina;Middle Eastern;Multiracial',\n",
    "       'Black or of African descent;East Asian;Hispanic or Latino/Latina;Middle Eastern;Native American, Pacific Islander, or Indigenous Australian;South Asian;White or of European descent;Biracial',\n",
    "       'Black or of African descent;Biracial',\n",
    "       'Black or of African descent;Hispanic or Latino/Latina;Multiracial',\n",
    "       'Black or of African descent;Multiracial',\n",
    "       'Hispanic or Latino/Latina;Native American, Pacific Islander, or Indigenous Australian;White or of European descent',\n",
    "       'Black or of African descent;Hispanic or Latino/Latina;South Asian;White or of European descent;Biracial',\n",
    "       'Middle Eastern;White or of European descent;Biracial',\n",
    "       'Middle Eastern;Multiracial', 'Biracial;Multiracial',\n",
    "       'Middle Eastern;South Asian',\n",
    "       'Hispanic or Latino/Latina;Native American, Pacific Islander, or Indigenous Australian;White or of European descent;Multiracial',\n",
    "       'Black or of African descent;White or of European descent;Biracial;Multiracial',\n",
    "       'East Asian;Native American, Pacific Islander, or Indigenous Australian;White or of European descent',\n",
    "       'East Asian;Hispanic or Latino/Latina;White or of European descent;Multiracial',\n",
    "       'South Asian;White or of European descent;Biracial;Multiracial',\n",
    "       'Middle Eastern;Native American, Pacific Islander, or Indigenous Australian;White or of European descent',\n",
    "       'Black or of African descent;East Asian;Biracial',\n",
    "       'East Asian;Hispanic or Latino/Latina;Biracial',\n",
    "       'Black or of African descent;Hispanic or Latino/Latina;Middle Eastern;Biracial',\n",
    "       'Black or of African descent;Hispanic or Latino/Latina;Native American, Pacific Islander, or Indigenous Australian;White or of European descent',\n",
    "       'East Asian;Biracial',\n",
    "       'Native American, Pacific Islander, or Indigenous Australian;White or of European descent;Biracial;Multiracial',\n",
    "       'White or of European descent;Biracial;Multiracial',\n",
    "       'Hispanic or Latino/Latina;Middle Eastern;White or of European descent;Multiracial',\n",
    "       'Black or of African descent;Middle Eastern;Biracial;Multiracial',\n",
    "       'East Asian;Native American, Pacific Islander, or Indigenous Australian;Multiracial',\n",
    "       'East Asian;South Asian;White or of European descent;Biracial;Multiracial',\n",
    "       'Hispanic or Latino/Latina;Middle Eastern;White or of European descent',\n",
    "       'Hispanic or Latino/Latina;South Asian;White or of European descent;Multiracial',\n",
    "       'Black or of African descent;Hispanic or Latino/Latina;Biracial',\n",
    "       'Black or of African descent;East Asian;Hispanic or Latino/Latina;Middle Eastern;Native American, Pacific Islander, or Indigenous Australian;South Asian;White or of European descent;Biracial;Multiracial',\n",
    "       'East Asian;Multiracial',\n",
    "       'Black or of African descent;Hispanic or Latino/Latina;Native American, Pacific Islander, or Indigenous Australian;Multiracial',\n",
    "       'East Asian;Native American, Pacific Islander, or Indigenous Australian;Biracial;Multiracial',\n",
    "       'Native American, Pacific Islander, or Indigenous Australian;Multiracial',\n",
    "       'Middle Eastern;Biracial',\n",
    "       'East Asian;South Asian;White or of European descent',\n",
    "       'South Asian;Biracial;Multiracial',\n",
    "       'East Asian;Hispanic or Latino/Latina;Multiracial',\n",
    "       'East Asian;South Asian;Biracial',\n",
    "       'Hispanic or Latino/Latina;Biracial;Multiracial',\n",
    "       'Native American, Pacific Islander, or Indigenous Australian;South Asian;White or of European descent;Multiracial',\n",
    "       'Black or of African descent;Biracial;Multiracial',\n",
    "       'East Asian;Hispanic or Latino/Latina',\n",
    "       'Middle Eastern;White or of European descent;Biracial;Multiracial',\n",
    "       'East Asian;Middle Eastern;South Asian;White or of European descent;Multiracial',\n",
    "       'Black or of African descent;Hispanic or Latino/Latina;Biracial;Multiracial',\n",
    "       'Black or of African descent;East Asian;Middle Eastern;Native American, Pacific Islander, or Indigenous Australian;White or of European descent;Multiracial',\n",
    "       'Hispanic or Latino/Latina;Middle Eastern;Multiracial',\n",
    "       'Hispanic or Latino/Latina;Native American, Pacific Islander, or Indigenous Australian;White or of European descent;Biracial;Multiracial',\n",
    "       'Black or of African descent;South Asian;Biracial',\n",
    "       'East Asian;Hispanic or Latino/Latina;Native American, Pacific Islander, or Indigenous Australian;South Asian',\n",
    "       'Middle Eastern;Native American, Pacific Islander, or Indigenous Australian;White or of European descent;Multiracial',\n",
    "       'Black or of African descent;South Asian']"
   ]
  },
  {
   "cell_type": "code",
   "execution_count": 6,
   "metadata": {},
   "outputs": [
    {
     "data": {
      "text/html": [
       "<div>\n",
       "<style scoped>\n",
       "    .dataframe tbody tr th:only-of-type {\n",
       "        vertical-align: middle;\n",
       "    }\n",
       "\n",
       "    .dataframe tbody tr th {\n",
       "        vertical-align: top;\n",
       "    }\n",
       "\n",
       "    .dataframe thead th {\n",
       "        text-align: right;\n",
       "    }\n",
       "</style>\n",
       "<table border=\"1\" class=\"dataframe\">\n",
       "  <thead>\n",
       "    <tr style=\"text-align: right;\">\n",
       "      <th></th>\n",
       "      <th>Gender</th>\n",
       "      <th>Hobbyist</th>\n",
       "      <th>Ethnicity</th>\n",
       "      <th>YearsCode</th>\n",
       "      <th>YearsCodePro</th>\n",
       "    </tr>\n",
       "    <tr>\n",
       "      <th>Respondent</th>\n",
       "      <th></th>\n",
       "      <th></th>\n",
       "      <th></th>\n",
       "      <th></th>\n",
       "      <th></th>\n",
       "    </tr>\n",
       "  </thead>\n",
       "  <tbody>\n",
       "    <tr>\n",
       "      <th>4</th>\n",
       "      <td>Man</td>\n",
       "      <td>No</td>\n",
       "      <td>White or of European descent</td>\n",
       "      <td>3</td>\n",
       "      <td>1</td>\n",
       "    </tr>\n",
       "    <tr>\n",
       "      <th>13</th>\n",
       "      <td>Man</td>\n",
       "      <td>Yes</td>\n",
       "      <td>White or of European descent</td>\n",
       "      <td>17</td>\n",
       "      <td>8</td>\n",
       "    </tr>\n",
       "    <tr>\n",
       "      <th>22</th>\n",
       "      <td>Man</td>\n",
       "      <td>Yes</td>\n",
       "      <td>White or of European descent</td>\n",
       "      <td>35</td>\n",
       "      <td>18</td>\n",
       "    </tr>\n",
       "    <tr>\n",
       "      <th>23</th>\n",
       "      <td>Man</td>\n",
       "      <td>Yes</td>\n",
       "      <td>POC</td>\n",
       "      <td>3</td>\n",
       "      <td>1</td>\n",
       "    </tr>\n",
       "    <tr>\n",
       "      <th>29</th>\n",
       "      <td>Man</td>\n",
       "      <td>Yes</td>\n",
       "      <td>White or of European descent</td>\n",
       "      <td>4</td>\n",
       "      <td>2</td>\n",
       "    </tr>\n",
       "    <tr>\n",
       "      <th>...</th>\n",
       "      <td>...</td>\n",
       "      <td>...</td>\n",
       "      <td>...</td>\n",
       "      <td>...</td>\n",
       "      <td>...</td>\n",
       "    </tr>\n",
       "    <tr>\n",
       "      <th>72325</th>\n",
       "      <td>Man</td>\n",
       "      <td>Yes</td>\n",
       "      <td>White or of European descent</td>\n",
       "      <td>9</td>\n",
       "      <td>3</td>\n",
       "    </tr>\n",
       "    <tr>\n",
       "      <th>78292</th>\n",
       "      <td>Man</td>\n",
       "      <td>No</td>\n",
       "      <td>White or of European descent</td>\n",
       "      <td>42</td>\n",
       "      <td>31</td>\n",
       "    </tr>\n",
       "    <tr>\n",
       "      <th>82717</th>\n",
       "      <td>Man</td>\n",
       "      <td>No</td>\n",
       "      <td>White or of European descent</td>\n",
       "      <td>Less than 1 year</td>\n",
       "      <td>1</td>\n",
       "    </tr>\n",
       "    <tr>\n",
       "      <th>83397</th>\n",
       "      <td>Non-man</td>\n",
       "      <td>Yes</td>\n",
       "      <td>White or of European descent</td>\n",
       "      <td>12</td>\n",
       "      <td>1</td>\n",
       "    </tr>\n",
       "    <tr>\n",
       "      <th>85642</th>\n",
       "      <td>Non-man</td>\n",
       "      <td>No</td>\n",
       "      <td>White or of European descent</td>\n",
       "      <td>20</td>\n",
       "      <td>1</td>\n",
       "    </tr>\n",
       "  </tbody>\n",
       "</table>\n",
       "<p>16831 rows × 5 columns</p>\n",
       "</div>"
      ],
      "text/plain": [
       "             Gender Hobbyist                     Ethnicity         YearsCode  \\\n",
       "Respondent                                                                     \n",
       "4               Man       No  White or of European descent                 3   \n",
       "13              Man      Yes  White or of European descent                17   \n",
       "22              Man      Yes  White or of European descent                35   \n",
       "23              Man      Yes                           POC                 3   \n",
       "29              Man      Yes  White or of European descent                 4   \n",
       "...             ...      ...                           ...               ...   \n",
       "72325           Man      Yes  White or of European descent                 9   \n",
       "78292           Man       No  White or of European descent                42   \n",
       "82717           Man       No  White or of European descent  Less than 1 year   \n",
       "83397       Non-man      Yes  White or of European descent                12   \n",
       "85642       Non-man       No  White or of European descent                20   \n",
       "\n",
       "           YearsCodePro  \n",
       "Respondent               \n",
       "4                     1  \n",
       "13                    8  \n",
       "22                   18  \n",
       "23                    1  \n",
       "29                    2  \n",
       "...                 ...  \n",
       "72325                 3  \n",
       "78292                31  \n",
       "82717                 1  \n",
       "83397                 1  \n",
       "85642                 1  \n",
       "\n",
       "[16831 rows x 5 columns]"
      ]
     },
     "execution_count": 6,
     "metadata": {},
     "output_type": "execute_result"
    }
   ],
   "source": [
    "pd.set_option('display.max_rows', 1000)\n",
    "\n",
    "# there are a few strings in the values under YearsCodePro. Want to change this to an int\n",
    "data_df = data.replace({'YearsCodePro': 'Less than 1 year'}, 1)\n",
    "data_df = data_df.replace({'YearsCodePro':'More than 50 years'}, 51)\n",
    "data_df = data_df.replace(to_replace=list_gender_toreplace, value='Non-man')\n",
    "data_df = data_df.replace(to_replace=list_ethn_poc, value='POC')\n",
    "data_df"
   ]
  },
  {
   "cell_type": "code",
   "execution_count": 7,
   "metadata": {},
   "outputs": [],
   "source": [
    "data_df['YearsCodePro'] = data_df['YearsCodePro'].astype(int)"
   ]
  },
  {
   "cell_type": "code",
   "execution_count": 8,
   "metadata": {},
   "outputs": [
    {
     "name": "stdout",
     "output_type": "stream",
     "text": [
      "Gender          object\n",
      "Hobbyist        object\n",
      "Ethnicity       object\n",
      "YearsCode       object\n",
      "YearsCodePro     int64\n",
      "dtype: object\n"
     ]
    }
   ],
   "source": [
    "# print(data_df.dtypes)"
   ]
  },
  {
   "cell_type": "code",
   "execution_count": 8,
   "metadata": {},
   "outputs": [],
   "source": [
    "# changing number values of YearsCodePro to labels\n",
    "cut_bins = [0, 3, 6, 15, 52]"
   ]
  },
  {
   "cell_type": "code",
   "execution_count": 9,
   "metadata": {},
   "outputs": [],
   "source": [
    "pro_levels = pd.cut(data_df['YearsCodePro'], cut_bins, labels = ['Juniors', 'Mid-Level', 'Experienced', 'Very Experienced'])"
   ]
  },
  {
   "cell_type": "code",
   "execution_count": 10,
   "metadata": {},
   "outputs": [
    {
     "data": {
      "text/html": [
       "<div>\n",
       "<style scoped>\n",
       "    .dataframe tbody tr th:only-of-type {\n",
       "        vertical-align: middle;\n",
       "    }\n",
       "\n",
       "    .dataframe tbody tr th {\n",
       "        vertical-align: top;\n",
       "    }\n",
       "\n",
       "    .dataframe thead th {\n",
       "        text-align: right;\n",
       "    }\n",
       "</style>\n",
       "<table border=\"1\" class=\"dataframe\">\n",
       "  <thead>\n",
       "    <tr style=\"text-align: right;\">\n",
       "      <th></th>\n",
       "      <th>Gender</th>\n",
       "      <th>Hobbyist</th>\n",
       "      <th>Ethnicity</th>\n",
       "      <th>YearsCode</th>\n",
       "      <th>YearsCodePro</th>\n",
       "    </tr>\n",
       "    <tr>\n",
       "      <th>Respondent</th>\n",
       "      <th></th>\n",
       "      <th></th>\n",
       "      <th></th>\n",
       "      <th></th>\n",
       "      <th></th>\n",
       "    </tr>\n",
       "  </thead>\n",
       "  <tbody>\n",
       "    <tr>\n",
       "      <th>4</th>\n",
       "      <td>Man</td>\n",
       "      <td>No</td>\n",
       "      <td>White or of European descent</td>\n",
       "      <td>3</td>\n",
       "      <td>Juniors</td>\n",
       "    </tr>\n",
       "    <tr>\n",
       "      <th>13</th>\n",
       "      <td>Man</td>\n",
       "      <td>Yes</td>\n",
       "      <td>White or of European descent</td>\n",
       "      <td>17</td>\n",
       "      <td>Experienced</td>\n",
       "    </tr>\n",
       "    <tr>\n",
       "      <th>22</th>\n",
       "      <td>Man</td>\n",
       "      <td>Yes</td>\n",
       "      <td>White or of European descent</td>\n",
       "      <td>35</td>\n",
       "      <td>Very Experienced</td>\n",
       "    </tr>\n",
       "    <tr>\n",
       "      <th>23</th>\n",
       "      <td>Man</td>\n",
       "      <td>Yes</td>\n",
       "      <td>POC</td>\n",
       "      <td>3</td>\n",
       "      <td>Juniors</td>\n",
       "    </tr>\n",
       "    <tr>\n",
       "      <th>29</th>\n",
       "      <td>Man</td>\n",
       "      <td>Yes</td>\n",
       "      <td>White or of European descent</td>\n",
       "      <td>4</td>\n",
       "      <td>Juniors</td>\n",
       "    </tr>\n",
       "    <tr>\n",
       "      <th>...</th>\n",
       "      <td>...</td>\n",
       "      <td>...</td>\n",
       "      <td>...</td>\n",
       "      <td>...</td>\n",
       "      <td>...</td>\n",
       "    </tr>\n",
       "    <tr>\n",
       "      <th>72325</th>\n",
       "      <td>Man</td>\n",
       "      <td>Yes</td>\n",
       "      <td>White or of European descent</td>\n",
       "      <td>9</td>\n",
       "      <td>Juniors</td>\n",
       "    </tr>\n",
       "    <tr>\n",
       "      <th>78292</th>\n",
       "      <td>Man</td>\n",
       "      <td>No</td>\n",
       "      <td>White or of European descent</td>\n",
       "      <td>42</td>\n",
       "      <td>Very Experienced</td>\n",
       "    </tr>\n",
       "    <tr>\n",
       "      <th>82717</th>\n",
       "      <td>Man</td>\n",
       "      <td>No</td>\n",
       "      <td>White or of European descent</td>\n",
       "      <td>Less than 1 year</td>\n",
       "      <td>Juniors</td>\n",
       "    </tr>\n",
       "    <tr>\n",
       "      <th>83397</th>\n",
       "      <td>Non-man</td>\n",
       "      <td>Yes</td>\n",
       "      <td>White or of European descent</td>\n",
       "      <td>12</td>\n",
       "      <td>Juniors</td>\n",
       "    </tr>\n",
       "    <tr>\n",
       "      <th>85642</th>\n",
       "      <td>Non-man</td>\n",
       "      <td>No</td>\n",
       "      <td>White or of European descent</td>\n",
       "      <td>20</td>\n",
       "      <td>Juniors</td>\n",
       "    </tr>\n",
       "  </tbody>\n",
       "</table>\n",
       "<p>16831 rows × 5 columns</p>\n",
       "</div>"
      ],
      "text/plain": [
       "             Gender Hobbyist                     Ethnicity         YearsCode  \\\n",
       "Respondent                                                                     \n",
       "4               Man       No  White or of European descent                 3   \n",
       "13              Man      Yes  White or of European descent                17   \n",
       "22              Man      Yes  White or of European descent                35   \n",
       "23              Man      Yes                           POC                 3   \n",
       "29              Man      Yes  White or of European descent                 4   \n",
       "...             ...      ...                           ...               ...   \n",
       "72325           Man      Yes  White or of European descent                 9   \n",
       "78292           Man       No  White or of European descent                42   \n",
       "82717           Man       No  White or of European descent  Less than 1 year   \n",
       "83397       Non-man      Yes  White or of European descent                12   \n",
       "85642       Non-man       No  White or of European descent                20   \n",
       "\n",
       "                YearsCodePro  \n",
       "Respondent                    \n",
       "4                    Juniors  \n",
       "13               Experienced  \n",
       "22          Very Experienced  \n",
       "23                   Juniors  \n",
       "29                   Juniors  \n",
       "...                      ...  \n",
       "72325                Juniors  \n",
       "78292       Very Experienced  \n",
       "82717                Juniors  \n",
       "83397                Juniors  \n",
       "85642                Juniors  \n",
       "\n",
       "[16831 rows x 5 columns]"
      ]
     },
     "execution_count": 10,
     "metadata": {},
     "output_type": "execute_result"
    }
   ],
   "source": [
    "data_df['YearsCodePro'] = pro_levels\n",
    "data_df"
   ]
  },
  {
   "cell_type": "markdown",
   "metadata": {},
   "source": [
    "#### Info\n",
    "\n",
    "1) Get group of certain experience level - e.g. juniors\n",
    "\n",
    "2) Groupby gender and get group of one of the listed genders - e.g. non-binary\n",
    "\n",
    "3) Groupby ethnicity and get group - e.g. White or of European descent"
   ]
  },
  {
   "cell_type": "code",
   "execution_count": 11,
   "metadata": {},
   "outputs": [],
   "source": [
    "yearscodepro = data_df.groupby('YearsCodePro')"
   ]
  },
  {
   "cell_type": "markdown",
   "metadata": {},
   "source": [
    "#### Create empty lists for each ethnicity and gender filter"
   ]
  },
  {
   "cell_type": "code",
   "execution_count": 30,
   "metadata": {},
   "outputs": [],
   "source": [
    "white_cis_men_list = []\n",
    "white_marginalized_genders_list = []\n",
    "poc_cis_men_list = []\n",
    "poc_marginalized_genders_list = []"
   ]
  },
  {
   "cell_type": "markdown",
   "metadata": {},
   "source": [
    "##### for each experience level, group by ethnicity and gender --> store in the appropriate list"
   ]
  },
  {
   "cell_type": "code",
   "execution_count": 31,
   "metadata": {},
   "outputs": [],
   "source": [
    "list_experience_levels = ['Juniors', 'Mid-Level', 'Experienced', 'Very Experienced']\n",
    "\n",
    "for i in list_experience_levels:\n",
    "    # group by each level and filter by gender/ethnicity\n",
    "    x = yearscodepro.get_group(i)\n",
    "    length_x = len(x)\n",
    "    \n",
    "    # white cis men\n",
    "    x_gender = x.groupby('Gender')\n",
    "    x_man = x_gender.get_group('Man')\n",
    "    x_ethnicity = x_man.groupby('Ethnicity')\n",
    "    x_whiteman = x_ethnicity.get_group('White or of European descent')\n",
    "    length_x_whiteman = len(x_whiteman['Gender'])\n",
    "    percentage_x_whiteman = length_x_whiteman / length_x * 100\n",
    "    white_cis_men_list.append(percentage_x_whiteman)\n",
    "    \n",
    "    # white marginalized genders\n",
    "    x_marginalized_gender = x_gender.get_group('Non-man')\n",
    "    x_ethn_marginzalized_genders = x_marginalized_gender.groupby('Ethnicity')\n",
    "    x_white_marginzalized_genders = x_ethn_marginzalized_genders.get_group('White or of European descent')\n",
    "    length_x_white_marg_genders = len(x_white_marginzalized_genders['Gender'])\n",
    "    percentage_x_white_marg_genders = length_x_white_marg_genders / length_x * 100\n",
    "    white_marginalized_genders_list.append(percentage_x_white_marg_genders)\n",
    "    \n",
    "    # POC cis men\n",
    "    x_poc_cisman = x_ethnicity.get_group('POC')\n",
    "    length_x_poc_cisman = len(x_poc_cisman['Gender'])\n",
    "    percentage_x_poc_cisman = length_x_poc_cisman / length_x * 100\n",
    "    poc_cis_men_list.append(percentage_x_poc_cisman)\n",
    "\n",
    "    # POC marginalized genders\n",
    "    x_poc_marg_genders = x_ethn_marginzalized_genders.get_group('POC')\n",
    "    length_x_poc_marg_genders = len(x_poc_marg_genders['Gender'])\n",
    "    percentage_x_poc_marg_genders = length_x_poc_marg_genders / length_x * 100\n",
    "    poc_marginalized_genders_list.append(percentage_x_poc_marg_genders)"
   ]
  },
  {
   "cell_type": "markdown",
   "metadata": {},
   "source": [
    "### Stacked Bar Graph"
   ]
  },
  {
   "cell_type": "code",
   "execution_count": 36,
   "metadata": {},
   "outputs": [],
   "source": [
    "yearsprolevel = data_df['YearsCodePro'].unique()"
   ]
  },
  {
   "cell_type": "code",
   "execution_count": 38,
   "metadata": {},
   "outputs": [],
   "source": [
    "# creating bar variables for the `bottom` argument in our plt.bar code\n",
    "bars1 = np.add(white_cis_men_list, white_marginalized_genders_list).tolist()\n",
    "bars2 = np.add(bars1, poc_cis_men_list).tolist()"
   ]
  },
  {
   "cell_type": "code",
   "execution_count": 40,
   "metadata": {},
   "outputs": [
    {
     "data": {
      "image/png": "[encoded data removed]",
      "text/plain": [
       "<Figure size 720x504 with 1 Axes>"
      ]
     },
     "metadata": {},
     "output_type": "display_data"
    }
   ],
   "source": [
    "fig = plt.figure(figsize = (10, 7)) \n",
    "\n",
    "ind = np.arange(len(yearsprolevel))\n",
    "\n",
    "bar_white_cis_man = plt.bar(ind, white_cis_men_list, width=0.35, color=\"blue\", label='White Cis Men')\n",
    "bar_white_mar_gen = plt.bar(ind, white_marginalized_genders_list, width=0.35, color=\"purple\", bottom=white_cis_men_list, label='White Marginalized Genders')\n",
    "bar_poc_cis_man = plt.bar(ind, poc_cis_men_list, width=0.35, color=\"green\", bottom=bars1, label='POC Cis Men')\n",
    "bar_poc_mar_gen = plt.bar(ind, poc_marginalized_genders_list, width=0.35, color=\"orange\", bottom=bars2, label='POC Marginalized Genders')\n",
    "\n",
    "\n",
    "plt.xticks(ind, ('Juniors', 'Mid-Level', 'Experienced', 'Very Experienced')) \n",
    "\n",
    "plt.yticks(np.arange(0, 140, 10))\n",
    "\n",
    "# plt.legend((bar_white_cis_man[0], bar_white_mar_gen[0], bar_poc_cis_man[0], bar_poc_mar_gen[0]), ('White Cis Men', 'White Marginalized Genders','POC Cis Men', 'POC Marginalized Genders'), loc='upper left',bbox_to_anchor=(0.7, 1))\n",
    "plt.legend()\n",
    "plt.xlabel('Experience level')\n",
    "plt.ylabel('Percentage')\n",
    "plt.title('2019 Developer Experience Level by Gender & Ethnicity', fontsize=15)\n",
    "\n",
    "plt.show()\n",
    "# fig.savefig('2019_DEI_exp_gender.jpg')"
   ]
  },
  {
   "cell_type": "markdown",
   "metadata": {},
   "source": [
    "## Prior code (irrelevant)"
   ]
  },
  {
   "cell_type": "markdown",
   "metadata": {},
   "source": [
    "### Refactor code strategy (Actual)\n",
    "Grouped based on gender/ethnicity and saved the values for each level in a list. E.g. white cis men values across Junior, midlevel, etc were saved in a list together\n",
    "\n",
    "created a for loop based on experience levels\n",
    "\n",
    "\n",
    "### (Original thoughts)\n",
    "- I can save all the junior, midlevel etc experience variables into a list.\n",
    "\n",
    "- once a list is created (list of values), for each value in the list, I can create a bar plt (likely will be looping through)\n",
    "\n",
    "- for each bar, I will want to compare the previous variable name to see if it has the same beginning (so len[:4]) - if so stack the bar, if not start bar on new xtick"
   ]
  },
  {
   "cell_type": "code",
   "execution_count": 61,
   "metadata": {},
   "outputs": [],
   "source": [
    "# white man\n",
    "\n",
    "juniors = yearscodepro.get_group('Juniors')\n",
    "length_juniors = len(juniors)\n",
    "jun_gen = juniors.groupby('Gender')\n",
    "jun_man = jun_gen.get_group('Man')\n",
    "jun_Ethn = jun_man.groupby('Ethnicity')\n",
    "jun_whiteguy = jun_Ethn.get_group('White or of European descent')\n",
    "length_jun_whiteguy = len(jun_whiteguy['Gender'])\n",
    "per_junwhiteman = length_jun_whiteguy / length_juniors * 100\n",
    "# print('white man ' + str(per_junwhiteman))\n",
    "white_man_list.append(per_junwhiteman)\n",
    "\n",
    "# white non man\n",
    "jun_nonman = jun_gen.get_group('Non-man')\n",
    "jun_Ethn_nonman = jun_nonman.groupby('Ethnicity')\n",
    "jun_white_nonman = jun_Ethn_nonman.get_group('White or of European descent')\n",
    "length_junwhite_nonman = len(jun_white_nonman['Gender'])\n",
    "per_junwhite_nonman = length_junwhite_nonman / length_juniors * 100\n",
    "# print('white non man ' + str(per_junwhite_nonman))\n",
    "white_mar_genders_list.append(per_junwhite_nonman)\n",
    "\n",
    "# POC man\n",
    "jun_pocguy = jun_Ethn.get_group('POC')\n",
    "length_jun_pocguy = len(jun_pocguy['Gender'])\n",
    "per_junpoc_man = length_jun_pocguy / length_juniors * 100\n",
    "# print('POC man ' + str(per_junpoc_man))\n",
    "poc_man_list.append(per_junpoc_man)\n",
    "\n",
    "\n",
    "# POC non man\n",
    "jun_poc_nonman = jun_Ethn_nonman.get_group('POC')\n",
    "length_junpoc_nonman = len(jun_poc_nonman['Gender'])\n",
    "per_junpoc_nonman = length_junpoc_nonman / length_juniors * 100\n",
    "# print('POC non man ' + str(per_junpoc_nonman))\n",
    "poc_mar_genders_list.append(per_junpoc_nonman)"
   ]
  },
  {
   "cell_type": "markdown",
   "metadata": {},
   "source": [
    "#### Mid-Level"
   ]
  },
  {
   "cell_type": "code",
   "execution_count": 62,
   "metadata": {},
   "outputs": [
    {
     "name": "stdout",
     "output_type": "stream",
     "text": [
      "white man 67.38221354892669\n",
      "white non man 10.287148034569277\n",
      "POC man 18.650683022023976\n",
      "POC non man 3.679955394480067\n"
     ]
    }
   ],
   "source": [
    "midlevel = yearscodepro.get_group('Mid-Level')\n",
    "length_mid = len(midlevel)\n",
    "\n",
    "midlvl_gender = midlevel.groupby('Gender')\n",
    "midlvl_man = midlvl_gender.get_group('Man')\n",
    "midlvl_Ethn = midlvl_man.groupby('Ethnicity')\n",
    "midlvl_whiteguy = midlvl_Ethn.get_group('White or of European descent')\n",
    "\n",
    "\n",
    "length_mid_whiteguy = len(midlvl_whiteguy['Gender'])\n",
    "per_mid_whiteman = length_mid_whiteguy / length_mid * 100\n",
    "print('white man ' + str(per_mid_whiteman))\n",
    "\n",
    "white_man_list.append(per_mid_whiteman)\n",
    "\n",
    "\n",
    "# white non man\n",
    "midlvl_nonman = midlvl_gender.get_group('Non-man')\n",
    "midlvl_Ethn_nonman = midlvl_nonman.groupby('Ethnicity')\n",
    "midlvl_white_nonman = midlvl_Ethn_nonman.get_group('White or of European descent')\n",
    "length_midlvl_white_nonman = len(midlvl_white_nonman['Gender'])\n",
    "per_midlvl_white_nonman = length_midlvl_white_nonman / length_mid * 100\n",
    "print('white non man ' + str(per_midlvl_white_nonman))\n",
    "\n",
    "white_mar_genders_list.append(per_midlvl_white_nonman)\n",
    "\n",
    "\n",
    "# POC man\n",
    "midlvl_pocguy = midlvl_Ethn.get_group('POC')\n",
    "length_midlvl_pocguy = len(midlvl_pocguy['Gender'])\n",
    "per_midlvlpoc_man = length_midlvl_pocguy / length_mid * 100\n",
    "print('POC man ' + str(per_midlvlpoc_man))\n",
    "\n",
    "poc_man_list.append(per_midlvlpoc_man)\n",
    "\n",
    "\n",
    "# POC non man\n",
    "midlvl_poc_nonman = midlvl_Ethn_nonman.get_group('POC')\n",
    "length_midlvlpoc_nonman = len(midlvl_poc_nonman['Gender'])\n",
    "per_midlvlpoc_nonman = length_midlvlpoc_nonman / length_mid * 100\n",
    "print('POC non man ' + str(per_midlvlpoc_nonman))\n",
    "\n",
    "poc_mar_genders_list.append(per_midlvlpoc_nonman)"
   ]
  },
  {
   "cell_type": "markdown",
   "metadata": {},
   "source": [
    "#### Experienced"
   ]
  },
  {
   "cell_type": "code",
   "execution_count": 63,
   "metadata": {},
   "outputs": [
    {
     "name": "stdout",
     "output_type": "stream",
     "text": [
      "white man 73.31101043923577\n",
      "white non man 6.696868229269254\n",
      "POC man 17.549734094937953\n",
      "POC non man 2.442387236557022\n"
     ]
    }
   ],
   "source": [
    "# white man\n",
    "experienced = yearscodepro.get_group('Experienced')\n",
    "experienced_gender = experienced.groupby('Gender')\n",
    "experienced_man = experienced_gender.get_group('Man')\n",
    "experienced_Ethn = experienced_man.groupby('Ethnicity')\n",
    "experienced_whiteguy = experienced_Ethn.get_group('White or of European descent')\n",
    "\n",
    "length_experienced = len(experienced)\n",
    "length_experienced_whiteguy = len(experienced_whiteguy['Gender'])\n",
    "per_experienced_whiteman = length_experienced_whiteguy / length_experienced * 100\n",
    "print('white man ' + str(per_experienced_whiteman))\n",
    "\n",
    "white_man_list.append(per_experienced_whiteman)\n",
    "\n",
    "\n",
    "# white non man\n",
    "experienced_nonman = experienced_gender.get_group('Non-man')\n",
    "experienced_Ethn_nonman = experienced_nonman.groupby('Ethnicity')\n",
    "experienced_white_nonman = experienced_Ethn_nonman.get_group('White or of European descent')\n",
    "length_experienced_white_nonman = len(experienced_white_nonman['Gender'])\n",
    "per_experienced_white_nonman = length_experienced_white_nonman / length_experienced * 100\n",
    "print('white non man ' + str(per_experienced_white_nonman))\n",
    "\n",
    "white_mar_genders_list.append(per_experienced_white_nonman)\n",
    "\n",
    "# POC man\n",
    "experienced_pocguy = experienced_Ethn.get_group('POC')\n",
    "length_experienced_pocguy = len(experienced_pocguy['Gender'])\n",
    "per_experienced_poc_man = length_experienced_pocguy / length_experienced * 100\n",
    "print('POC man ' + str(per_experienced_poc_man))\n",
    "\n",
    "poc_man_list.append(per_experienced_poc_man)\n",
    "\n",
    "# POC non man\n",
    "experienced_poc_nonman = experienced_Ethn_nonman.get_group('POC')\n",
    "length_experienced_poc_nonman = len(experienced_poc_nonman['Gender'])\n",
    "per_experienced_poc_nonman = length_experienced_poc_nonman / length_experienced * 100\n",
    "print('POC non man ' + str(per_experienced_poc_nonman))\n",
    "\n",
    "poc_mar_genders_list.append(per_experienced_poc_nonman)"
   ]
  },
  {
   "cell_type": "markdown",
   "metadata": {},
   "source": [
    "#### Very experienced"
   ]
  },
  {
   "cell_type": "code",
   "execution_count": 64,
   "metadata": {},
   "outputs": [
    {
     "name": "stdout",
     "output_type": "stream",
     "text": [
      "white man 81.66050611316463\n",
      "white non man 5.828831390389536\n",
      "POC man 11.68609610463463\n",
      "POC non man 0.8245663918112027\n"
     ]
    }
   ],
   "source": [
    "very_exp = yearscodepro.get_group('Very Experienced')\n",
    "very_exp_gender = very_exp.groupby('Gender')\n",
    "very_exp_man = very_exp_gender.get_group('Man')\n",
    "very_exp_Ethn = very_exp_man.groupby('Ethnicity')\n",
    "very_exp_whiteguy = very_exp_Ethn.get_group('White or of European descent')\n",
    "\n",
    "\n",
    "length_very_exp = len(very_exp)\n",
    "length_very_exp_whiteguy = len(very_exp_whiteguy['Gender'])\n",
    "per_very_exp_whiteman = length_very_exp_whiteguy / length_very_exp * 100\n",
    "print('white man ' +  str(per_very_exp_whiteman))\n",
    "\n",
    "white_man_list.append(per_very_exp_whiteman)\n",
    "\n",
    "# white non man\n",
    "very_exp_nonman = very_exp_gender.get_group('Non-man')\n",
    "very_exp_Ethn_nonman = very_exp_nonman.groupby('Ethnicity')\n",
    "very_exp_white_nonman = very_exp_Ethn_nonman.get_group('White or of European descent')\n",
    "length_very_exp_white_nonman = len(very_exp_white_nonman['Gender'])\n",
    "per_very_exp_white_nonman = length_very_exp_white_nonman / length_very_exp * 100\n",
    "print('white non man ' + str(per_very_exp_white_nonman))\n",
    "\n",
    "white_mar_genders_list.append(per_very_exp_white_nonman)\n",
    "\n",
    "# POC man\n",
    "very_exp_pocguy = very_exp_Ethn.get_group('POC')\n",
    "length_very_exp_pocguy = len(very_exp_pocguy['Gender'])\n",
    "per_very_exp_poc_man = length_very_exp_pocguy / length_very_exp * 100\n",
    "print('POC man ' + str(per_very_exp_poc_man))\n",
    "\n",
    "poc_man_list.append(per_very_exp_poc_man)\n",
    "\n",
    "# POC non man\n",
    "very_exp_poc_nonman = very_exp_Ethn_nonman.get_group('POC')\n",
    "length_very_exp_poc_nonman = len(very_exp_poc_nonman['Gender'])\n",
    "per_very_exp_poc_nonman = length_very_exp_poc_nonman / length_very_exp * 100\n",
    "print('POC non man ' + str(per_very_exp_poc_nonman))\n",
    "\n",
    "poc_mar_genders_list.append(per_very_exp_poc_nonman)"
   ]
  },
  {
   "cell_type": "code",
   "execution_count": 96,
   "metadata": {
    "collapsed": true
   },
   "outputs": [
    {
     "data": {
      "text/plain": [
       "Text(0.5, 1.0, '2019 Developer Experience Level by Gender & Ethnicity')"
      ]
     },
     "execution_count": 96,
     "metadata": {},
     "output_type": "execute_result"
    },
    {
     "data": {
      "image/png": "[encoded data removed]",
      "text/plain": [
       "<Figure size 720x504 with 1 Axes>"
      ]
     },
     "metadata": {},
     "output_type": "display_data"
    }
   ],
   "source": [
    "# #Label update: cis men and marginalized genders\n",
    "\n",
    "# fig, ax = plt.subplots(figsize=(10,7))\n",
    "# # plt.figure(figsize=(10,7))\n",
    "\n",
    "# graphJuniorw = plt.bar(x=0, height=per_junwhiteman, width=0.35, color=\"blue\", label='White Cis Man')\n",
    "# graphJuniorw_nonman = plt.bar(x=0, height=per_junwhite_nonman, width=0.35, color=\"purple\", bottom=per_junwhiteman, label='White Marginalized Genders')\n",
    "# graphJuniorpoc = plt.bar(x=0, height=per_junpoc_man, width=0.35, color=\"green\", bottom=per_junwhite_nonman+per_junwhiteman, label='POC Cis Man')\n",
    "# graphJuniorpoc_nonman = plt.bar(x=0, height=per_junpoc_nonman, width=0.35,  color=\"orange\", bottom=per_junpoc_man+per_junwhite_nonman+per_junwhiteman, label='POC Marginalized Genders')\n",
    "\n",
    "\n",
    "# graphMidlevelw = plt.bar(x=1, height=per_mid_whiteman, width=0.35, color=\"blue\")\n",
    "# graphMidlevelw_nonman = plt.bar(x=1, height=per_midlvl_white_nonman, width=0.35, color=\"purple\", bottom=per_mid_whiteman)\n",
    "# graphMidlevelpoc = plt.bar(x=1, height=per_midlvlpoc_man, width=0.35, color=\"green\", bottom=per_midlvl_white_nonman+per_mid_whiteman)\n",
    "# graphMidlevelpoc_nonman = plt.bar(x=1, height=per_midlvlpoc_nonman, width=0.35, color=\"orange\", bottom=per_midlvlpoc_man+per_midlvl_white_nonman+per_mid_whiteman)\n",
    "\n",
    "\n",
    "# graphExpw = plt.bar(x=2, height=per_experienced_whiteman, width=0.35, color=\"blue\")\n",
    "# graphExppoc = plt.bar(x=2, height=per_experienced_white_nonman, width=0.35, color=\"purple\", bottom=per_experienced_whiteman)\n",
    "# graphExppoc = plt.bar(x=2, height=per_experienced_poc_man, width=0.35, color=\"green\", bottom=per_experienced_white_nonman+per_experienced_whiteman)\n",
    "# graphExppoc = plt.bar(x=2, height=per_experienced_poc_nonman, width=0.35, color=\"orange\", bottom=per_experienced_poc_man+per_experienced_white_nonman+per_experienced_whiteman)\n",
    "\n",
    "\n",
    "# graphVeryw = plt.bar(x=3, height=per_very_exp_whiteman, width=0.35, color=\"blue\")\n",
    "# graphVerypoc = plt.bar(x=3, height=per_very_exp_white_nonman, width=0.35, color=\"purple\", bottom=per_very_exp_whiteman)\n",
    "# graphVerypoc = plt.bar(x=3, height=per_very_exp_poc_man, width=0.35, color=\"green\", bottom=per_very_exp_white_nonman+per_very_exp_whiteman)\n",
    "# graphVerypoc = plt.bar(x=3, height=per_very_exp_poc_nonman, width=0.35, color=\"orange\", bottom=per_very_exp_poc_man+per_very_exp_white_nonman+per_very_exp_whiteman)\n",
    "\n",
    "# indx = np.arange(len(yearsprolevel))\n",
    "# # plt.xticks(np.arange(1, 5, 0.5))\n",
    "\n",
    "# ax.set_xticks(indx)\n",
    "# ax.set_xticklabels(labels=['Juniors', 'Mid-Level', 'Experienced', 'Very Experienced'])\n",
    "\n",
    "# plt.yticks(np.arange(0, 140, 10))\n",
    "\n",
    "# ax.legend(loc='upper left',bbox_to_anchor=(0.7, 1))\n",
    "# plt.xlabel('Job levels')\n",
    "# plt.title('2019 Developer Experience Level by Gender & Ethnicity', fontsize=15)\n",
    "\n",
    "# # fig.savefig('2019_DEI_exp_gender.jpg')"
   ]
  }
 ],
 "metadata": {
  "kernelspec": {
   "display_name": "Python 3",
   "language": "python",
   "name": "python3"
  },
  "language_info": {
   "codemirror_mode": {
    "name": "ipython",
    "version": 3
   },
   "file_extension": ".py",
   "mimetype": "text/x-python",
   "name": "python",
   "nbconvert_exporter": "python",
   "pygments_lexer": "ipython3",
   "version": "3.7.6"
  }
 },
 "nbformat": 4,
 "nbformat_minor": 4
}
